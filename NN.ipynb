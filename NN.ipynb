{
 "cells": [
  {
   "cell_type": "code",
   "execution_count": 0,
   "metadata": {
    "colab": {},
    "colab_type": "code",
    "id": "sFJp_qmk7Kb_"
   },
   "outputs": [],
   "source": [
    "from google.colab import drive\n",
    "drive.mount('/content/gdrive')"
   ]
  },
  {
   "cell_type": "code",
   "execution_count": 0,
   "metadata": {
    "colab": {},
    "colab_type": "code",
    "id": "4dLFHrvB7NQ9"
   },
   "outputs": [],
   "source": [
    "import pandas as pd\n",
    "from keras.preprocessing.text import Tokenizer\n",
    "from keras.preprocessing.sequence import pad_sequences\n",
    "from keras.models import Sequential\n",
    "from keras.layers import Embedding,Flatten,Dense,Dropout,Bidirectional\n",
    "from keras.layers import LSTM\n",
    "from keras import regularizers"
   ]
  },
  {
   "cell_type": "markdown",
   "metadata": {
    "colab_type": "text",
    "id": "r2swPpkaE-x0"
   },
   "source": [
    "Загружаем данные"
   ]
  },
  {
   "cell_type": "code",
   "execution_count": 0,
   "metadata": {
    "colab": {},
    "colab_type": "code",
    "id": "43IrR1zn7O39"
   },
   "outputs": [],
   "source": [
    "data_train = pd.read_csv('/content/gdrive/My Drive/data/data_train.csv')\n",
    "data_test = pd.read_csv('/content/gdrive/My Drive/data/data_test.csv')"
   ]
  },
  {
   "cell_type": "markdown",
   "metadata": {
    "colab_type": "text",
    "id": "K04PvstSFGKY"
   },
   "source": [
    "Подготавливаем данные"
   ]
  },
  {
   "cell_type": "code",
   "execution_count": 0,
   "metadata": {
    "colab": {},
    "colab_type": "code",
    "id": "S_GP3Qc9Jfl_"
   },
   "outputs": [],
   "source": [
    "maxlen = 200  # отсечение остатка отзыва после 200 слов\n",
    "training_samples = 20000  # Обучение на выборке из  20000 образцов\n",
    "validation_samples = 5000  # Проверка на выборке из 5 000\n",
    "max_words = 12000  # Рассмотренные только 12000  наиболее часто используемых слов\n",
    "\n",
    "tokenizer = Tokenizer(num_words=max_words)\n",
    "tokenizer.fit_on_texts(data_train.text)\n",
    "sequence = tokenizer.texts_to_sequences(data_train.text)\n",
    "data = pad_sequences(sequence, maxlen=maxlen)\n",
    "\n",
    "x_train = data[:training_samples]\n",
    "y_train = data_train.target.values[:training_samples]\n",
    "x_val = data[training_samples:training_samples + validation_samples]\n",
    "y_val = data_train.target.values[training_samples:\n",
    "                                 training_samples + validation_samples]\n",
    "\n",
    "model = Sequential()\n",
    "model.add(Embedding(12000, 32))\n",
    "Dropout(0.1)\n",
    "model.add(LSTM(100))\n",
    "model.add(Dense(32, activation='relu'))\n",
    "model.add(Dense(1, activation='sigmoid'))\n",
    "model.summary()\n",
    "model.compile(optimizer='adam', loss='binary_crossentropy',\n",
    "              metrics=['accuracy'])\n",
    "history = model.fit(x_train, y_train, epochs=8,\n",
    "                    batch_size=2048, validation_data=(x_val, y_val))\n"
   ]
  },
  {
   "cell_type": "markdown",
   "metadata": {
    "colab_type": "text",
    "id": "ArsFUKyqlNgs"
   },
   "source": [
    "Готовим тестовые данные"
   ]
  },
  {
   "cell_type": "code",
   "execution_count": 0,
   "metadata": {
    "colab": {},
    "colab_type": "code",
    "id": "YkT8rlzxKug4"
   },
   "outputs": [],
   "source": [
    "sequence = tokenizer.texts_to_sequences(data_test.text)\n",
    "x_test = pad_sequences(sequence, maxlen=maxlen)\n",
    "y_test = data_test.target.values"
   ]
  },
  {
   "cell_type": "markdown",
   "metadata": {
    "colab_type": "text",
    "id": "ajZ-qZOYldC7"
   },
   "source": [
    "проверям качество"
   ]
  },
  {
   "cell_type": "code",
   "execution_count": 0,
   "metadata": {
    "colab": {},
    "colab_type": "code",
    "id": "peMFraZnLVai"
   },
   "outputs": [],
   "source": [
    "model.evaluate(x_test,y_test)"
   ]
  },
  {
   "cell_type": "markdown",
   "metadata": {
    "colab_type": "text",
    "id": "X1QQ3XXAlmct"
   },
   "source": [
    "сохраняем модели"
   ]
  },
  {
   "cell_type": "code",
   "execution_count": 0,
   "metadata": {
    "colab": {},
    "colab_type": "code",
    "id": "xsUgot8PLlop"
   },
   "outputs": [],
   "source": [
    "import pickle\n",
    "\n",
    "# saving\n",
    "with open('/content/gdrive/My Drive/data/tokenizer.pickle', 'wb') as handle:\n",
    "    pickle.dump(tokenizer, handle, protocol=pickle.HIGHEST_PROTOCOL)\n",
    "    \n",
    "with open('/content/gdrive/My Drive/data/model.pickle', 'wb') as handle:\n",
    "    pickle.dump(model, handle, protocol=pickle.HIGHEST_PROTOCOL)\n",
    "\n",
    "# loading\n",
    "#with open('tokenizer.pickle', 'rb') as handle:\n",
    "#    tokenizer = pickle.load(handle)"
   ]
  },
  {
   "cell_type": "code",
   "execution_count": 0,
   "metadata": {
    "colab": {},
    "colab_type": "code",
    "id": "_z3jR8eooKwt"
   },
   "outputs": [],
   "source": []
  }
 ],
 "metadata": {
  "accelerator": "GPU",
  "colab": {
   "collapsed_sections": [],
   "name": "NN.ipynb",
   "private_outputs": true,
   "provenance": [],
   "version": "0.3.2"
  },
  "kernelspec": {
   "display_name": "Python 3",
   "language": "python",
   "name": "python3"
  },
  "language_info": {
   "codemirror_mode": {
    "name": "ipython",
    "version": 3
   },
   "file_extension": ".py",
   "mimetype": "text/x-python",
   "name": "python",
   "nbconvert_exporter": "python",
   "pygments_lexer": "ipython3",
   "version": "3.7.1"
  }
 },
 "nbformat": 4,
 "nbformat_minor": 1
}
